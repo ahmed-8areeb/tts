{
 "cells": [
  {
   "cell_type": "code",
   "execution_count": 13,
   "metadata": {},
   "outputs": [],
   "source": [
    "from scipy.fftpack import fft, ifft\n",
    "import scipy.io.wavfile as wav\n",
    "import scipy.signal as sg\n",
    "import numpy as np\n"
   ]
  },
  {
   "cell_type": "code",
   "execution_count": 113,
   "metadata": {},
   "outputs": [],
   "source": [
    "import numpy as np\n",
    "import soundfile as sf\n",
    "import librosa\n",
    "\n",
    "def spectral_subtraction(audio, reduction_factor=1.0):\n",
    "    # Compute the power spectrum of the audio signal\n",
    "    audio_spec = np.abs(librosa.stft(audio))\n",
    "\n",
    "    # Estimate the noise spectrum from a portion of the audio\n",
    "    noise_frames = audio_spec[:, 188:]  # Adjust the number of frames as needed\n",
    "    avg_noise_spec = np.mean(noise_frames, axis=1, keepdims=True)\n",
    "\n",
    "    # Compute the noise reduction factor\n",
    "    reduction_factor = np.maximum(0, reduction_factor)\n",
    "\n",
    "    # Apply spectral subtraction\n",
    "    enhanced_spec = audio_spec - (reduction_factor * avg_noise_spec)\n",
    "\n",
    "    # Inverse STFT to obtain the enhanced audio signal\n",
    "    enhanced_audio = librosa.istft(enhanced_spec)\n",
    "\n",
    "    return enhanced_audio\n",
    "\n",
    "# Example usage\n",
    "# Load the audio signal\n",
    "audio, sr = librosa.load('/media/ahmed/DATA/forth year/Graduation Project/tacron2/tts/6.wav', sr=None)\n",
    "\n",
    "# Apply spectral subtraction with a reduction factor of 0.5\n",
    "reduced_noise_audio = spectral_subtraction(audio, reduction_factor=0.7)\n",
    "\n",
    "# Save the enhanced audio signal to a file\n",
    "sf.write('/media/ahmed/DATA/forth year/Graduation Project/tacron2/tts/ot.wav', reduced_noise_audio, sr)\n"
   ]
  },
  {
   "cell_type": "code",
   "execution_count": 62,
   "metadata": {},
   "outputs": [],
   "source": [
    "import numpy as np\n",
    "from scipy.interpolate import interp1d\n",
    "from scipy.io import wavfile\n",
    "\n",
    "def apply_transfer(signal, transfer, interpolation='linear'):\n",
    "    constant = np.linspace(-1, 1, len(transfer))\n",
    "    interpolator = interp1d(constant, transfer, interpolation)\n",
    "    return interpolator(signal)"
   ]
  },
  {
   "cell_type": "code",
   "execution_count": 63,
   "metadata": {},
   "outputs": [],
   "source": [
    "# hard limiting\n",
    "def limiter(x, treshold=0.8):\n",
    "    transfer_len = 1000\n",
    "    transfer = np.concatenate([ np.repeat(-1, int(((1-treshold)/2)*transfer_len)),\n",
    "                                np.linspace(-1, 1, int(treshold*transfer_len)),\n",
    "                                np.repeat(1, int(((1-treshold)/2)*transfer_len)) ])\n",
    "    return apply_transfer(x, transfer)\n",
    "\n",
    "# smooth compression: if factor is small, its near linear, the bigger it is the\n",
    "# stronger the compression\n",
    "def arctan_compressor(x, factor=2):\n",
    "    constant = np.linspace(-1, 1, 1000)\n",
    "    transfer = np.arctan(factor * constant)\n",
    "    transfer /= np.abs(transfer).max()\n",
    "    return apply_transfer(x, transfer)"
   ]
  },
  {
   "cell_type": "code",
   "execution_count": 64,
   "metadata": {},
   "outputs": [],
   "source": [
    "sr, x = wavfile.read(\"ot.wav\")\n",
    "x = x / np.abs(x).max() # x scale between -1 and 1\n",
    "\n",
    "x2 = limiter(x)\n",
    "x2 = np.int16(x2 * 32767)\n",
    "wavfile.write(\"output_limit.wav\", sr, x2)\n",
    "\n",
    "x3 = arctan_compressor(x)\n",
    "x3 = np.int16(x3 * 32767)\n",
    "wavfile.write(\"output_comp.wav\", sr, x3)"
   ]
  }
 ],
 "metadata": {
  "kernelspec": {
   "display_name": "base",
   "language": "python",
   "name": "python3"
  },
  "language_info": {
   "codemirror_mode": {
    "name": "ipython",
    "version": 3
   },
   "file_extension": ".py",
   "mimetype": "text/x-python",
   "name": "python",
   "nbconvert_exporter": "python",
   "pygments_lexer": "ipython3",
   "version": "3.7.13"
  },
  "orig_nbformat": 4
 },
 "nbformat": 4,
 "nbformat_minor": 2
}
