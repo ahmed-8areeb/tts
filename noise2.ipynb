{
 "cells": [
  {
   "cell_type": "code",
   "execution_count": 1,
   "metadata": {},
   "outputs": [],
   "source": [
    "from scipy.fftpack import fft, ifft\n",
    "import scipy.io.wavfile as wav\n",
    "import scipy.signal as sg\n",
    "import numpy as np\n",
    "from src.enhancment.enhancement import speech_enhance\n",
    "import librosa\n",
    "import soundfile as sf"
   ]
  },
  {
   "cell_type": "code",
   "execution_count": 18,
   "metadata": {},
   "outputs": [
    {
     "name": "stdout",
     "output_type": "stream",
     "text": [
      "(2049, 294)\n"
     ]
    }
   ],
   "source": [
    "inv_wav,sr = librosa.load('6.wav', sr=None)\n",
    "\n",
    "inv_wav = speech_enhance(wave_data=inv_wav,\n",
    "                        fft_number=4096,\n",
    "                        lenght_hop=int(44100*0.0125),\n",
    "                        window_len=int(44100*0.05),\n",
    "                        noise_frame=7,\n",
    "                        alpha=70,\n",
    "                        beta=0.0001,\n",
    "                        gamma=1,\n",
    "                        method=3\n",
    "                    )\n",
    "sf.write(\"new.wav\", inv_wav, sr)"
   ]
  },
  {
   "cell_type": "code",
   "execution_count": null,
   "metadata": {},
   "outputs": [],
   "source": []
  }
 ],
 "metadata": {
  "kernelspec": {
   "display_name": "base",
   "language": "python",
   "name": "python3"
  },
  "language_info": {
   "codemirror_mode": {
    "name": "ipython",
    "version": 3
   },
   "file_extension": ".py",
   "mimetype": "text/x-python",
   "name": "python",
   "nbconvert_exporter": "python",
   "pygments_lexer": "ipython3",
   "version": "3.7.13"
  },
  "orig_nbformat": 4
 },
 "nbformat": 4,
 "nbformat_minor": 2
}
